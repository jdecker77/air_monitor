{
 "cells": [
  {
   "cell_type": "code",
   "execution_count": 2,
   "metadata": {},
   "outputs": [],
   "source": [
    "import shutil\n",
    "import urllib.request as request\n",
    "from contextlib import closing"
   ]
  },
  {
   "cell_type": "code",
   "execution_count": 8,
   "metadata": {},
   "outputs": [],
   "source": [
    "variables = [\"AQHI.csv\",\n",
    "             \"CO.csv\",\n",
    "             \"H2S.csv\",\n",
    "             \"HUMIDITY.csv\",\n",
    "             \"NO.csv\",\n",
    "             \"NO2.csv\",\n",
    "             \"NOx.csv\",\n",
    "             \"O3.csv\",\n",
    "             \"PM10.csv\",\n",
    "             \"PM25.csv\",\n",
    "             \"PRECIP.csv\",\n",
    "             \"PRESSURE.csv\",\n",
    "             \"SNOW.csv\",\n",
    "             \"SO2.csv\",\n",
    "             \"TEMP_MEAN.csv\",\n",
    "             \"TRS.csv\",\n",
    "             \"WDIR_UVEC.csv\",\n",
    "             \"WDIR_VECT.csv\",\n",
    "             \"WSPD_SCLR.csv\",\n",
    "             \"WSPD_VECT.csv\"\n",
    "            ]"
   ]
  },
  {
   "cell_type": "code",
   "execution_count": 11,
   "metadata": {},
   "outputs": [],
   "source": [
    "for var in variables:\n",
    "    \n",
    "    baseURL = 'ftp://ftp.env.gov.bc.ca/pub/outgoing/AIR/Hourly_Raw_Air_Data/Year_to_Date/'\n",
    "    \n",
    "    url = baseURL+var\n",
    "#     print(url)\n",
    "\n",
    "    filename = '../data/AQ/'+var\n",
    "#     print(filename)\n",
    "\n",
    "    with closing(request.urlopen(url)) as r:\n",
    "        with open(filename, 'wb') as f:\n",
    "            shutil.copyfileobj(r, f)"
   ]
  },
  {
   "cell_type": "code",
   "execution_count": null,
   "metadata": {},
   "outputs": [],
   "source": []
  }
 ],
 "metadata": {
  "kernelspec": {
   "display_name": "Python 3",
   "language": "python",
   "name": "python3"
  },
  "language_info": {
   "codemirror_mode": {
    "name": "ipython",
    "version": 3
   },
   "file_extension": ".py",
   "mimetype": "text/x-python",
   "name": "python",
   "nbconvert_exporter": "python",
   "pygments_lexer": "ipython3",
   "version": "3.6.7"
  }
 },
 "nbformat": 4,
 "nbformat_minor": 4
}
