{
 "cells": [
  {
   "cell_type": "code",
   "execution_count": 3,
   "metadata": {},
   "outputs": [
    {
     "name": "stderr",
     "output_type": "stream",
     "text": [
      "/Users/jessedecker/miniconda3/envs/tf/lib/python3.6/site-packages/tensorflow/python/framework/dtypes.py:526: FutureWarning: Passing (type, 1) or '1type' as a synonym of type is deprecated; in a future version of numpy, it will be understood as (type, (1,)) / '(1,)type'.\n",
      "  _np_qint8 = np.dtype([(\"qint8\", np.int8, 1)])\n",
      "/Users/jessedecker/miniconda3/envs/tf/lib/python3.6/site-packages/tensorflow/python/framework/dtypes.py:527: FutureWarning: Passing (type, 1) or '1type' as a synonym of type is deprecated; in a future version of numpy, it will be understood as (type, (1,)) / '(1,)type'.\n",
      "  _np_quint8 = np.dtype([(\"quint8\", np.uint8, 1)])\n",
      "/Users/jessedecker/miniconda3/envs/tf/lib/python3.6/site-packages/tensorflow/python/framework/dtypes.py:528: FutureWarning: Passing (type, 1) or '1type' as a synonym of type is deprecated; in a future version of numpy, it will be understood as (type, (1,)) / '(1,)type'.\n",
      "  _np_qint16 = np.dtype([(\"qint16\", np.int16, 1)])\n",
      "/Users/jessedecker/miniconda3/envs/tf/lib/python3.6/site-packages/tensorflow/python/framework/dtypes.py:529: FutureWarning: Passing (type, 1) or '1type' as a synonym of type is deprecated; in a future version of numpy, it will be understood as (type, (1,)) / '(1,)type'.\n",
      "  _np_quint16 = np.dtype([(\"quint16\", np.uint16, 1)])\n",
      "/Users/jessedecker/miniconda3/envs/tf/lib/python3.6/site-packages/tensorflow/python/framework/dtypes.py:530: FutureWarning: Passing (type, 1) or '1type' as a synonym of type is deprecated; in a future version of numpy, it will be understood as (type, (1,)) / '(1,)type'.\n",
      "  _np_qint32 = np.dtype([(\"qint32\", np.int32, 1)])\n",
      "/Users/jessedecker/miniconda3/envs/tf/lib/python3.6/site-packages/tensorflow/python/framework/dtypes.py:535: FutureWarning: Passing (type, 1) or '1type' as a synonym of type is deprecated; in a future version of numpy, it will be understood as (type, (1,)) / '(1,)type'.\n",
      "  np_resource = np.dtype([(\"resource\", np.ubyte, 1)])\n"
     ]
    }
   ],
   "source": [
    "'''\n",
    "Load scripts\n",
    "'''\n",
    "\n",
    "%run -i '../scripts/py/config.py'\n",
    "%run -i '../scripts/py/obj_det.py'\n",
    "# %run -i '../scripts/py/visualization_utils.py'"
   ]
  },
  {
   "cell_type": "markdown",
   "metadata": {},
   "source": [
    "### Object Detection\n",
    "\n",
    "1. Select Model\n",
    "2. Load Labelmap\n",
    "3. Set Parameters\n",
    "4. Run Detection"
   ]
  },
  {
   "cell_type": "code",
   "execution_count": 55,
   "metadata": {},
   "outputs": [
    {
     "name": "stdout",
     "output_type": "stream",
     "text": [
      "/Users/jessedecker/projects/air_monitor/resources/vehicle_counting_tensorflow-master/ssd_mobilenet_v1_coco_2018_01_28/frozen_inference_graph.pb\n"
     ]
    }
   ],
   "source": [
    "'''\n",
    "Select Model\n",
    "\n",
    "# Default is \"SSD with Mobilenet\". \n",
    "# See the detection model zoo (https://github.com/tensorflow/models/blob/master/research/object_detection/g3doc/detection_model_zoo.md) \n",
    "for a list of other models that can be run out-of-the-box with varying speeds and accuracies.\n",
    "'''\n",
    "\n",
    "# Set model name\n",
    "# MODEL_NAME = 'ssd_mobilenet_v1_coco_2018_01_28'\n",
    "MODEL_NAME = 'faster_rcnn_inception_v2_coco_2018_01_28'\n",
    "\n",
    "# Set model folder location\n",
    "model_folder = GetModelsFolder()+\"/\"+MODEL_NAME\n",
    "# print(model_folder)\n",
    "\n",
    "# Load a (frozen) Tensorflow model into memory for detection.\n",
    "graph = 'frozen_inference_graph.pb'\n",
    "PATH_TO_CKPT = model_folder+'/'+graph\n",
    "\n",
    "# PATH_TO_CKPT = '/Users/jessedecker/projects/air_monitor/resources/vehicle_counting_tensorflow-master/ssd_mobilenet_v1_coco_2018_01_28/frozen_inference_graph.pb'\n",
    "# print(PATH_TO_CKPT)"
   ]
  },
  {
   "cell_type": "code",
   "execution_count": 56,
   "metadata": {},
   "outputs": [
    {
     "name": "stdout",
     "output_type": "stream",
     "text": [
      "{1: {'id': 1, 'name': 'person'}, 2: {'id': 2, 'name': 'bicycle'}, 3: {'id': 3, 'name': 'car'}, 4: {'id': 4, 'name': 'motorcycle'}, 5: {'id': 5, 'name': 'airplane'}, 6: {'id': 6, 'name': 'bus'}, 7: {'id': 7, 'name': 'train'}, 8: {'id': 8, 'name': 'truck'}, 9: {'id': 9, 'name': 'boat'}, 10: {'id': 10, 'name': 'traffic light'}, 11: {'id': 11, 'name': 'fire hydrant'}, 13: {'id': 13, 'name': 'stop sign'}, 14: {'id': 14, 'name': 'parking meter'}}\n"
     ]
    }
   ],
   "source": [
    "'''\n",
    "Load labelmap\n",
    "'''\n",
    "\n",
    "# List of the strings that is used to add correct label for each box.\n",
    "PATH_TO_LABELS = GetDetectionFolder()+'/'+'mscoco_label_map.pbtxt'\n",
    "NUM_CLASSES = 14\n",
    "\n",
    "label_map = label_map_util.load_labelmap(PATH_TO_LABELS)\n",
    "categories = label_map_util.convert_label_map_to_categories(label_map,max_num_classes=NUM_CLASSES, use_display_name=True)\n",
    "\n",
    "category_index = label_map_util.create_category_index(categories)\n",
    "print(category_index)"
   ]
  },
  {
   "cell_type": "code",
   "execution_count": 57,
   "metadata": {},
   "outputs": [
    {
     "name": "stdout",
     "output_type": "stream",
     "text": [
      "Starting session\n"
     ]
    }
   ],
   "source": [
    "'''\n",
    "Set start params and perform detection\n",
    "'''\n",
    "\n",
    "month = 10\n",
    "days = [11]\n",
    "hours = [11]\n",
    "calls = [1,2,3,4]\n",
    "\n",
    "# cams = [498,499,507,508,509,510,511,512,513,514,855,856,857,858]\n",
    "cams = [498]\n",
    "\n",
    "targets = [2,3,4,5,6,7,8,9]\n",
    "threshold = 0.4\n",
    "\n",
    "for day in days:\n",
    "    for hour in hours:\n",
    "        StartDetection(month,day,hour,calls,cams,targets,threshold)"
   ]
  },
  {
   "cell_type": "markdown",
   "metadata": {},
   "source": [
    "### Visualize Detections"
   ]
  },
  {
   "cell_type": "code",
   "execution_count": 15,
   "metadata": {},
   "outputs": [],
   "source": [
    "'''\n",
    "  Adds a bounding box to an image.\n",
    "  Bounding box coordinates can be specified in either absolute (pixel) or\n",
    "  normalized coordinates by setting the use_normalized_coordinates argument.\n",
    "'''\n",
    "\n",
    "def DrawBoxes(image,\n",
    "              boxes,\n",
    "              classes,\n",
    "              color='black',\n",
    "              thickness=2):\n",
    "    \n",
    "    draw = ImageDraw.Draw(image)\n",
    "    \n",
    "    i=0\n",
    "    for box in boxes:\n",
    "        left = box[0]\n",
    "        right = box[1]\n",
    "        top = box[2]\n",
    "        bottom = box[3]\n",
    "        \n",
    "#         print(classes[i])\n",
    "        if classes[i] == 'car':\n",
    "            color = 'blue'\n",
    "        elif classes[i] == 'truck':\n",
    "            color = 'green'\n",
    "        elif classes[i] == 'bus':\n",
    "            color = 'red'\n",
    "        i+=1\n",
    "            \n",
    "        draw.line([(left, top), (left, bottom), (right, bottom),\n",
    "                   (right, top), (left, top)], width=thickness, fill=color)\n",
    "    \n",
    "    image.show()"
   ]
  },
  {
   "cell_type": "code",
   "execution_count": 14,
   "metadata": {},
   "outputs": [
    {
     "data": {
      "text/html": [
       "<div>\n",
       "<style scoped>\n",
       "    .dataframe tbody tr th:only-of-type {\n",
       "        vertical-align: middle;\n",
       "    }\n",
       "\n",
       "    .dataframe tbody tr th {\n",
       "        vertical-align: top;\n",
       "    }\n",
       "\n",
       "    .dataframe thead th {\n",
       "        text-align: right;\n",
       "    }\n",
       "</style>\n",
       "<table border=\"1\" class=\"dataframe\">\n",
       "  <thead>\n",
       "    <tr style=\"text-align: right;\">\n",
       "      <th></th>\n",
       "      <th>ImagePath</th>\n",
       "      <th>class</th>\n",
       "      <th>score</th>\n",
       "      <th>left</th>\n",
       "      <th>right</th>\n",
       "      <th>top</th>\n",
       "      <th>bottom</th>\n",
       "    </tr>\n",
       "  </thead>\n",
       "  <tbody>\n",
       "    <tr>\n",
       "      <td>0</td>\n",
       "      <td>../data/cameras/M10/D11/H11/C498/498_1.jpg</td>\n",
       "      <td>car</td>\n",
       "      <td>0.732821</td>\n",
       "      <td>202</td>\n",
       "      <td>231</td>\n",
       "      <td>115</td>\n",
       "      <td>134</td>\n",
       "    </tr>\n",
       "    <tr>\n",
       "      <td>1</td>\n",
       "      <td>../data/cameras/M10/D11/H11/C498/498_1.jpg</td>\n",
       "      <td>car</td>\n",
       "      <td>0.695173</td>\n",
       "      <td>217</td>\n",
       "      <td>241</td>\n",
       "      <td>111</td>\n",
       "      <td>133</td>\n",
       "    </tr>\n",
       "    <tr>\n",
       "      <td>2</td>\n",
       "      <td>../data/cameras/M10/D11/H11/C498/498_1.jpg</td>\n",
       "      <td>car</td>\n",
       "      <td>0.650648</td>\n",
       "      <td>40</td>\n",
       "      <td>72</td>\n",
       "      <td>153</td>\n",
       "      <td>170</td>\n",
       "    </tr>\n",
       "    <tr>\n",
       "      <td>3</td>\n",
       "      <td>../data/cameras/M10/D11/H11/C498/498_1.jpg</td>\n",
       "      <td>car</td>\n",
       "      <td>0.572687</td>\n",
       "      <td>119</td>\n",
       "      <td>170</td>\n",
       "      <td>169</td>\n",
       "      <td>201</td>\n",
       "    </tr>\n",
       "    <tr>\n",
       "      <td>4</td>\n",
       "      <td>../data/cameras/M10/D11/H11/C498/498_2.jpg</td>\n",
       "      <td>car</td>\n",
       "      <td>0.764545</td>\n",
       "      <td>196</td>\n",
       "      <td>220</td>\n",
       "      <td>147</td>\n",
       "      <td>164</td>\n",
       "    </tr>\n",
       "  </tbody>\n",
       "</table>\n",
       "</div>"
      ],
      "text/plain": [
       "                                    ImagePath class     score  left   right  \\\n",
       "0  ../data/cameras/M10/D11/H11/C498/498_1.jpg   car  0.732821   202     231   \n",
       "1  ../data/cameras/M10/D11/H11/C498/498_1.jpg   car  0.695173   217     241   \n",
       "2  ../data/cameras/M10/D11/H11/C498/498_1.jpg   car  0.650648    40      72   \n",
       "3  ../data/cameras/M10/D11/H11/C498/498_1.jpg   car  0.572687   119     170   \n",
       "4  ../data/cameras/M10/D11/H11/C498/498_2.jpg   car  0.764545   196     220   \n",
       "\n",
       "    top   bottom  \n",
       "0   115      134  \n",
       "1   111      133  \n",
       "2   153      170  \n",
       "3   169      201  \n",
       "4   147      164  "
      ]
     },
     "execution_count": 14,
     "metadata": {},
     "output_type": "execute_result"
    }
   ],
   "source": [
    "'''\n",
    "Load Hourly CSV\n",
    "'''\n",
    "\n",
    "month = 10\n",
    "day = 11\n",
    "hour = 11\n",
    "\n",
    "filename = GetImageRoot(month,day,hour)+'/'+'image_results.csv'\n",
    "# print(GetImageRoot(month,day,hour))\n",
    "\n",
    "images = pd.read_csv(filename)\n",
    "images = images.sort_values('ImagePath')\n",
    "\n",
    "images.head()"
   ]
  },
  {
   "cell_type": "code",
   "execution_count": 16,
   "metadata": {},
   "outputs": [],
   "source": [
    "'''\n",
    "Call to draw images with boxes\n",
    "'''\n",
    "\n",
    "paths = set(images.ImagePath.tolist()[:])\n",
    "for path in paths:\n",
    "    tmp = images[images['ImagePath']==path]\n",
    "    \n",
    "    vh_classes = tmp['class'].tolist()\n",
    "    \n",
    "    rows = tmp.index.tolist()\n",
    "    boxes = []\n",
    "    for row in rows:\n",
    "        boxes.append(images.loc[row,'left':])\n",
    "        \n",
    "    img = Image.open(images.iloc[row]['ImagePath'])\n",
    "    DrawBoxes(img,boxes,vh_classes)"
   ]
  },
  {
   "cell_type": "code",
   "execution_count": 86,
   "metadata": {},
   "outputs": [],
   "source": [
    "'''\n",
    "Create a label map\n",
    "'''\n",
    "\n",
    "with open('../data/detection/map.csv') as f:\n",
    "    file = f.read().split('\\n')\n",
    "    \n",
    "# print(file)\n",
    "# print(tmp)\n",
    "# file = pd.read_csv()\n",
    "# categories = file.read()\n",
    "end = '\\n'\n",
    "s = ' '\n",
    "class_map = {}\n",
    "for ID, name in enumerate(file):\n",
    "#     print(ID,name)\n",
    "    out = ''\n",
    "    out += 'item' + s + '{' + end\n",
    "    out += s*2 + 'id:' + ' ' + (str(ID+1)) + end\n",
    "    out += s*2 + 'name:' + ' ' + '\\'' + name + '\\'' + end\n",
    "    out += '}' + end*2\n",
    "    \n",
    "\n",
    "    with open('../data/detection/map.pbtxt', 'a') as f:\n",
    "        f.write(out)\n",
    "        \n",
    "    class_map[name] = ID+1"
   ]
  },
  {
   "cell_type": "code",
   "execution_count": null,
   "metadata": {},
   "outputs": [],
   "source": [
    "# Download Model if needed\n",
    "# MODEL_FILE = MODEL_NAME + '.tar.gz'\n",
    "# DOWNLOAD_BASE = \\\n",
    "#     'http://download.tensorflow.org/models/object_detection/'"
   ]
  }
 ],
 "metadata": {
  "kernelspec": {
   "display_name": "Python 3",
   "language": "python",
   "name": "python3"
  },
  "language_info": {
   "codemirror_mode": {
    "name": "ipython",
    "version": 3
   },
   "file_extension": ".py",
   "mimetype": "text/x-python",
   "name": "python",
   "nbconvert_exporter": "python",
   "pygments_lexer": "ipython3",
   "version": "3.6.7"
  }
 },
 "nbformat": 4,
 "nbformat_minor": 4
}
