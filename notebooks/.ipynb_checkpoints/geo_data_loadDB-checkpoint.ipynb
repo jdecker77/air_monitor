{
 "cells": [
  {
   "cell_type": "code",
   "execution_count": 1,
   "metadata": {},
   "outputs": [],
   "source": [
    "'''\n",
    "Import modules\n",
    "'''\n",
    "%run -i '../scripts/py/imports.py'"
   ]
  },
  {
   "cell_type": "code",
   "execution_count": 2,
   "metadata": {},
   "outputs": [],
   "source": [
    "'''\n",
    "Setup Connection to DB\n",
    "'''\n",
    "engine = create_engine('postgresql+psycopg2://jessedecker@localhost:5432/BC')"
   ]
  },
  {
   "cell_type": "code",
   "execution_count": 6,
   "metadata": {},
   "outputs": [],
   "source": [
    "def WriteTableToDB(df,filename):\n",
    "    connection = engine.connect()\n",
    "    \n",
    "    # read string into geom col\n",
    "    df['geom'] = df['geometry'].apply(lambda x: WKTElement(x.wkt, srid=4326))\n",
    "\n",
    "    #drop the geometry column as it is now duplicative\n",
    "    df.drop('geometry', 1, inplace=True)\n",
    "    \n",
    "    df.to_sql(\n",
    "        filename,\n",
    "        connection,\n",
    "        if_exists='append',\n",
    "        index=False,\n",
    "        dtype={'geom': Geometry('POLYGON', srid= 4326)}\n",
    "    )\n",
    "    connection.close()\n",
    "    "
   ]
  },
  {
   "cell_type": "code",
   "execution_count": 9,
   "metadata": {},
   "outputs": [],
   "source": [
    "def GetTableFromDB(query):\n",
    "    connection = engine.connect()\n",
    "\n",
    "    gdf = gpd.GeoDataFrame.from_postgis(query, connection, geom_col='geom' )\n",
    "    \n",
    "    connection.close()\n",
    "    \n",
    "    return gdf"
   ]
  },
  {
   "cell_type": "code",
   "execution_count": 3,
   "metadata": {},
   "outputs": [
    {
     "data": {
      "text/html": [
       "<div>\n",
       "<style scoped>\n",
       "    .dataframe tbody tr th:only-of-type {\n",
       "        vertical-align: middle;\n",
       "    }\n",
       "\n",
       "    .dataframe tbody tr th {\n",
       "        vertical-align: top;\n",
       "    }\n",
       "\n",
       "    .dataframe thead th {\n",
       "        text-align: right;\n",
       "    }\n",
       "</style>\n",
       "<table border=\"1\" class=\"dataframe\">\n",
       "  <thead>\n",
       "    <tr style=\"text-align: right;\">\n",
       "      <th></th>\n",
       "      <th>FID</th>\n",
       "      <th>geometry</th>\n",
       "    </tr>\n",
       "  </thead>\n",
       "  <tbody>\n",
       "    <tr>\n",
       "      <th>0</th>\n",
       "      <td>0</td>\n",
       "      <td>POLYGON ((-123.0234069824219 49.20128250122094...</td>\n",
       "    </tr>\n",
       "  </tbody>\n",
       "</table>\n",
       "</div>"
      ],
      "text/plain": [
       "   FID                                           geometry\n",
       "0    0  POLYGON ((-123.0234069824219 49.20128250122094..."
      ]
     },
     "execution_count": 3,
     "metadata": {},
     "output_type": "execute_result"
    }
   ],
   "source": [
    "van_city_bounds = gpd.read_file('../data/vancouver/city_boundary_poly/city_boundary_poly.shp')\n",
    "van_city_bounds = van_city_bounds.to_crs({'init' :'epsg:4326'})\n",
    "van_city_bounds.head()"
   ]
  },
  {
   "cell_type": "code",
   "execution_count": 4,
   "metadata": {},
   "outputs": [
    {
     "data": {
      "text/plain": [
       "<matplotlib.axes._subplots.AxesSubplot at 0x1270adf98>"
      ]
     },
     "execution_count": 4,
     "metadata": {},
     "output_type": "execute_result"
    },
    {
     "data": {
      "image/png": "[encoded data removed]",
      "text/plain": [
       "<Figure size 432x288 with 1 Axes>"
      ]
     },
     "metadata": {
      "needs_background": "light"
     },
     "output_type": "display_data"
    }
   ],
   "source": [
    "van_city_bounds.plot()"
   ]
  },
  {
   "cell_type": "code",
   "execution_count": 7,
   "metadata": {},
   "outputs": [],
   "source": [
    "WriteTableToDB(van_city_bounds,'van_city_bounds')"
   ]
  },
  {
   "cell_type": "code",
   "execution_count": 11,
   "metadata": {},
   "outputs": [
    {
     "data": {
      "text/html": [
       "<div>\n",
       "<style scoped>\n",
       "    .dataframe tbody tr th:only-of-type {\n",
       "        vertical-align: middle;\n",
       "    }\n",
       "\n",
       "    .dataframe tbody tr th {\n",
       "        vertical-align: top;\n",
       "    }\n",
       "\n",
       "    .dataframe thead th {\n",
       "        text-align: right;\n",
       "    }\n",
       "</style>\n",
       "<table border=\"1\" class=\"dataframe\">\n",
       "  <thead>\n",
       "    <tr style=\"text-align: right;\">\n",
       "      <th></th>\n",
       "      <th>FID</th>\n",
       "      <th>geom</th>\n",
       "    </tr>\n",
       "  </thead>\n",
       "  <tbody>\n",
       "    <tr>\n",
       "      <th>0</th>\n",
       "      <td>0</td>\n",
       "      <td>POLYGON ((-123.0234069824219 49.20128250122094...</td>\n",
       "    </tr>\n",
       "  </tbody>\n",
       "</table>\n",
       "</div>"
      ],
      "text/plain": [
       "   FID                                               geom\n",
       "0    0  POLYGON ((-123.0234069824219 49.20128250122094..."
      ]
     },
     "execution_count": 11,
     "metadata": {},
     "output_type": "execute_result"
    }
   ],
   "source": [
    "query = 'SELECT \"FID\",geom FROM van_city_bounds'\n",
    "\n",
    "tmp = GDFFromDB(query)\n",
    "tmp.head()"
   ]
  },
  {
   "cell_type": "code",
   "execution_count": null,
   "metadata": {},
   "outputs": [],
   "source": []
  },
  {
   "cell_type": "code",
   "execution_count": null,
   "metadata": {},
   "outputs": [],
   "source": [
    "van_local_area_bounds = gpd.read_file('../data/vancouver/local_area_boundary_shp/local_area_boundary.shp')\n",
    "van_local_area_bounds = van_local_area_bounds.to_crs({'init' :'epsg:4269'})\n",
    "van_local_area_bounds.head()"
   ]
  },
  {
   "cell_type": "code",
   "execution_count": null,
   "metadata": {},
   "outputs": [],
   "source": [
    "WriteTableToDB(van_local_area_bounds,'van_city_bounds')"
   ]
  },
  {
   "cell_type": "code",
   "execution_count": 10,
   "metadata": {},
   "outputs": [
    {
     "data": {
      "text/html": [
       "<div>\n",
       "<style scoped>\n",
       "    .dataframe tbody tr th:only-of-type {\n",
       "        vertical-align: middle;\n",
       "    }\n",
       "\n",
       "    .dataframe tbody tr th {\n",
       "        vertical-align: top;\n",
       "    }\n",
       "\n",
       "    .dataframe thead th {\n",
       "        text-align: right;\n",
       "    }\n",
       "</style>\n",
       "<table border=\"1\" class=\"dataframe\">\n",
       "  <thead>\n",
       "    <tr style=\"text-align: right;\">\n",
       "      <th></th>\n",
       "      <th>MAPID</th>\n",
       "      <th>NAME</th>\n",
       "      <th>geom</th>\n",
       "    </tr>\n",
       "  </thead>\n",
       "  <tbody>\n",
       "    <tr>\n",
       "      <th>0</th>\n",
       "      <td>SUN</td>\n",
       "      <td>Sunset</td>\n",
       "      <td>POLYGON ((-123.1069641113281 49.20415878295923...</td>\n",
       "    </tr>\n",
       "    <tr>\n",
       "      <th>1</th>\n",
       "      <td>MP</td>\n",
       "      <td>Mount Pleasant</td>\n",
       "      <td>POLYGON ((-123.1006698608398 49.26913070678734...</td>\n",
       "    </tr>\n",
       "    <tr>\n",
       "      <th>2</th>\n",
       "      <td>RP</td>\n",
       "      <td>Riley Park</td>\n",
       "      <td>POLYGON ((-123.1056213378906 49.23311614990256...</td>\n",
       "    </tr>\n",
       "    <tr>\n",
       "      <th>3</th>\n",
       "      <td>CBD</td>\n",
       "      <td>Downtown</td>\n",
       "      <td>POLYGON ((-123.1122665405273 49.29016494750998...</td>\n",
       "    </tr>\n",
       "    <tr>\n",
       "      <th>4</th>\n",
       "      <td>KITS</td>\n",
       "      <td>Kitsilano</td>\n",
       "      <td>POLYGON ((-123.1376800537109 49.27531814575217...</td>\n",
       "    </tr>\n",
       "  </tbody>\n",
       "</table>\n",
       "</div>"
      ],
      "text/plain": [
       "  MAPID            NAME                                               geom\n",
       "0   SUN          Sunset  POLYGON ((-123.1069641113281 49.20415878295923...\n",
       "1    MP  Mount Pleasant  POLYGON ((-123.1006698608398 49.26913070678734...\n",
       "2    RP      Riley Park  POLYGON ((-123.1056213378906 49.23311614990256...\n",
       "3   CBD        Downtown  POLYGON ((-123.1122665405273 49.29016494750998...\n",
       "4  KITS       Kitsilano  POLYGON ((-123.1376800537109 49.27531814575217..."
      ]
     },
     "execution_count": 10,
     "metadata": {},
     "output_type": "execute_result"
    }
   ],
   "source": [
    "query = 'SELECT \"MAPID\",\"NAME\", geom FROM van_local_area_bounds'\n",
    "\n",
    "tmp = GDFFromDB(query)\n",
    "tmp.head()"
   ]
  }
 ],
 "metadata": {
  "kernelspec": {
   "display_name": "Python 3",
   "language": "python",
   "name": "python3"
  },
  "language_info": {
   "codemirror_mode": {
    "name": "ipython",
    "version": 3
   },
   "file_extension": ".py",
   "mimetype": "text/x-python",
   "name": "python",
   "nbconvert_exporter": "python",
   "pygments_lexer": "ipython3",
   "version": "3.7.3"
  }
 },
 "nbformat": 4,
 "nbformat_minor": 2
}
