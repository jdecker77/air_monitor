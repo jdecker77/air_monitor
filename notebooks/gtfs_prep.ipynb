{
 "cells": [
  {
   "cell_type": "code",
   "execution_count": 8,
   "metadata": {},
   "outputs": [],
   "source": [
    "from google.transit import gtfs_realtime_pb2\n",
    "import urllib.request\n",
    "import requests"
   ]
  },
  {
   "cell_type": "code",
   "execution_count": 5,
   "metadata": {},
   "outputs": [],
   "source": [
    "'''\n",
    "Convert points to gdf - GIS\n",
    "'''\n",
    "\n",
    "def CoordToPoint(data):\n",
    "    \n",
    "    #zip the coordinates into a point object and convert to a GeoData Frame\n",
    "    geometry = [Point(xy) for xy in zip(data.LONGITUDE, data.LATITUDE)]\n",
    "    geo_df = gpd.GeoDataFrame(data, geometry=geometry)\n",
    "    geo_df.crs = {'init' :'epsg:4326'}\n",
    "\n",
    "    return geo_df"
   ]
  },
  {
   "cell_type": "code",
   "execution_count": 4,
   "metadata": {},
   "outputs": [],
   "source": [
    "'''\n",
    "Dfine polygon for comparison\n",
    "'''\n",
    "\n",
    "def DefinePoly():\n",
    "    # Vic     \n",
    "    ll = (-123.447533,48.381268)\n",
    "    tl = (-123.447533,48.497567)\n",
    "    tr = (-123.237076,48.497567)\n",
    "    lr = (-123.237076,48.381268)\n",
    "\n",
    "#     ll = (-128.386230,48.176217)\n",
    "#     tl = (-128.386230,50.092393)\n",
    "#     tr = (-123.340931,50.092393)\n",
    "#     lr = (-123.340931,48.176217)\n",
    "\n",
    "    # Nainamo to Vic\n",
    "#     ll = (-124.252625,48.331954)\n",
    "#     tl = (-124.252625,49.235534)\n",
    "#     tr = (-123.270185,49.235534)\n",
    "#     lr = (-123.270185,48.331954)\n",
    "    \n",
    "    return Polygon([ll,tl,tr,lr])"
   ]
  },
  {
   "cell_type": "code",
   "execution_count": 7,
   "metadata": {},
   "outputs": [
    {
     "ename": "AttributeError",
     "evalue": "message",
     "output_type": "error",
     "traceback": [
      "\u001b[0;31m---------------------------------------------------------------------------\u001b[0m",
      "\u001b[0;31mAttributeError\u001b[0m                            Traceback (most recent call last)",
      "\u001b[0;32m<ipython-input-7-3bd96d1a689c>\u001b[0m in \u001b[0;36m<module>\u001b[0;34m\u001b[0m\n\u001b[1;32m     14\u001b[0m     \u001b[0;32mfor\u001b[0m \u001b[0mentity\u001b[0m \u001b[0;32min\u001b[0m \u001b[0mfeed\u001b[0m\u001b[0;34m.\u001b[0m\u001b[0mentity\u001b[0m\u001b[0;34m:\u001b[0m\u001b[0;34m\u001b[0m\u001b[0;34m\u001b[0m\u001b[0m\n\u001b[1;32m     15\u001b[0m \u001b[0;31m#         print('found one')\u001b[0m\u001b[0;34m\u001b[0m\u001b[0;34m\u001b[0m\u001b[0;34m\u001b[0m\u001b[0m\n\u001b[0;32m---> 16\u001b[0;31m         \u001b[0mprint\u001b[0m\u001b[0;34m(\u001b[0m\u001b[0mentity\u001b[0m\u001b[0;34m.\u001b[0m\u001b[0mmessage\u001b[0m\u001b[0;34m(\u001b[0m\u001b[0;34m)\u001b[0m\u001b[0;34m)\u001b[0m\u001b[0;34m\u001b[0m\u001b[0;34m\u001b[0m\u001b[0m\n\u001b[0m\u001b[1;32m     17\u001b[0m         \u001b[0;32mif\u001b[0m \u001b[0mentity\u001b[0m\u001b[0;34m.\u001b[0m\u001b[0mHasField\u001b[0m\u001b[0;34m(\u001b[0m\u001b[0;34m'trip_update'\u001b[0m\u001b[0;34m)\u001b[0m\u001b[0;34m:\u001b[0m\u001b[0;34m\u001b[0m\u001b[0;34m\u001b[0m\u001b[0m\n\u001b[1;32m     18\u001b[0m             \u001b[0mprint\u001b[0m\u001b[0;34m(\u001b[0m\u001b[0mentity\u001b[0m\u001b[0;34m.\u001b[0m\u001b[0mtrip_update\u001b[0m\u001b[0;34m)\u001b[0m\u001b[0;34m\u001b[0m\u001b[0;34m\u001b[0m\u001b[0m\n",
      "\u001b[0;31mAttributeError\u001b[0m: message"
     ]
    }
   ],
   "source": [
    "'''\n",
    "\n",
    "'''\n",
    "\n",
    "# url = 'http://www.mapstrat.com,en,20190902,20191231,234dd97c-75fb-4862-b1f6-ec487cb43c15'\n",
    "url = 'http://victoria.mapstrat.com/current/gtfrealtime_VehiclePositions.bin'\n",
    "\n",
    "feed = gtfs_realtime_pb2.FeedMessage()\n",
    "\n",
    "response = urllib.request.urlopen(url)\n",
    "# response = requests.get(<URL OF YOUR GTFS SOURCE>, allow_redirects=True)\n",
    "\n",
    "\n",
    "if response.getcode() == 200:\n",
    "    feed.ParseFromString(response.read())\n",
    "    for entity in feed.entity:\n",
    "#         print('found one')\n",
    "        if entity.HasField('trip_update'):\n",
    "            print(entity.trip_update)\n",
    "else:\n",
    "    print(response.getcode())"
   ]
  },
  {
   "cell_type": "code",
   "execution_count": null,
   "metadata": {},
   "outputs": [],
   "source": []
  },
  {
   "cell_type": "code",
   "execution_count": null,
   "metadata": {},
   "outputs": [],
   "source": []
  },
  {
   "cell_type": "code",
   "execution_count": null,
   "metadata": {},
   "outputs": [],
   "source": []
  }
 ],
 "metadata": {
  "kernelspec": {
   "display_name": "Python 3",
   "language": "python",
   "name": "python3"
  },
  "language_info": {
   "codemirror_mode": {
    "name": "ipython",
    "version": 3
   },
   "file_extension": ".py",
   "mimetype": "text/x-python",
   "name": "python",
   "nbconvert_exporter": "python",
   "pygments_lexer": "ipython3",
   "version": "3.6.7"
  }
 },
 "nbformat": 4,
 "nbformat_minor": 4
}
