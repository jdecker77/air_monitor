{
 "cells": [
  {
   "cell_type": "code",
   "execution_count": 4,
   "metadata": {},
   "outputs": [],
   "source": [
    "%run -i '../scripts/py/config.py'"
   ]
  },
  {
   "cell_type": "code",
   "execution_count": 6,
   "metadata": {},
   "outputs": [
    {
     "name": "stdout",
     "output_type": "stream",
     "text": [
      "../data/cameras/M10/D11/H11/C498/498_1.jpg\n",
      "../data/cameras/M10/D11/H11/C499/499_1.jpg\n",
      "../data/cameras/M10/D11/H11/C507/507_1.jpg\n",
      "../data/cameras/M10/D11/H11/C508/508_1.jpg\n",
      "../data/cameras/M10/D11/H11/C509/509_1.jpg\n",
      "../data/cameras/M10/D11/H11/C510/510_1.jpg\n",
      "../data/cameras/M10/D11/H11/C511/511_1.jpg\n",
      "../data/cameras/M10/D11/H11/C512/512_1.jpg\n",
      "../data/cameras/M10/D11/H11/C513/513_1.jpg\n",
      "../data/cameras/M10/D11/H11/C514/514_1.jpg\n",
      "../data/cameras/M10/D11/H11/C855/855_1.jpg\n",
      "../data/cameras/M10/D11/H11/C856/856_1.jpg\n",
      "../data/cameras/M10/D11/H11/C857/857_1.jpg\n",
      "../data/cameras/M10/D11/H11/C858/858_1.jpg\n",
      "../data/cameras/M10/D11/H11/C498/498_2.jpg\n",
      "../data/cameras/M10/D11/H11/C499/499_2.jpg\n",
      "../data/cameras/M10/D11/H11/C507/507_2.jpg\n",
      "../data/cameras/M10/D11/H11/C508/508_2.jpg\n",
      "../data/cameras/M10/D11/H11/C509/509_2.jpg\n",
      "../data/cameras/M10/D11/H11/C510/510_2.jpg\n",
      "../data/cameras/M10/D11/H11/C511/511_2.jpg\n",
      "../data/cameras/M10/D11/H11/C512/512_2.jpg\n",
      "../data/cameras/M10/D11/H11/C513/513_2.jpg\n",
      "../data/cameras/M10/D11/H11/C514/514_2.jpg\n",
      "../data/cameras/M10/D11/H11/C855/855_2.jpg\n",
      "../data/cameras/M10/D11/H11/C856/856_2.jpg\n",
      "../data/cameras/M10/D11/H11/C857/857_2.jpg\n",
      "../data/cameras/M10/D11/H11/C858/858_2.jpg\n",
      "../data/cameras/M10/D11/H11/C498/498_3.jpg\n",
      "../data/cameras/M10/D11/H11/C499/499_3.jpg\n",
      "../data/cameras/M10/D11/H11/C507/507_3.jpg\n",
      "../data/cameras/M10/D11/H11/C508/508_3.jpg\n",
      "../data/cameras/M10/D11/H11/C509/509_3.jpg\n",
      "../data/cameras/M10/D11/H11/C510/510_3.jpg\n",
      "../data/cameras/M10/D11/H11/C511/511_3.jpg\n",
      "../data/cameras/M10/D11/H11/C512/512_3.jpg\n",
      "../data/cameras/M10/D11/H11/C513/513_3.jpg\n",
      "../data/cameras/M10/D11/H11/C514/514_3.jpg\n",
      "../data/cameras/M10/D11/H11/C855/855_3.jpg\n",
      "../data/cameras/M10/D11/H11/C856/856_3.jpg\n",
      "../data/cameras/M10/D11/H11/C857/857_3.jpg\n",
      "../data/cameras/M10/D11/H11/C858/858_3.jpg\n",
      "../data/cameras/M10/D11/H11/C498/498_4.jpg\n",
      "../data/cameras/M10/D11/H11/C499/499_4.jpg\n",
      "../data/cameras/M10/D11/H11/C507/507_4.jpg\n",
      "../data/cameras/M10/D11/H11/C508/508_4.jpg\n",
      "../data/cameras/M10/D11/H11/C509/509_4.jpg\n",
      "../data/cameras/M10/D11/H11/C510/510_4.jpg\n",
      "../data/cameras/M10/D11/H11/C511/511_4.jpg\n",
      "../data/cameras/M10/D11/H11/C512/512_4.jpg\n",
      "../data/cameras/M10/D11/H11/C513/513_4.jpg\n",
      "../data/cameras/M10/D11/H11/C514/514_4.jpg\n",
      "../data/cameras/M10/D11/H11/C855/855_4.jpg\n",
      "../data/cameras/M10/D11/H11/C856/856_4.jpg\n",
      "../data/cameras/M10/D11/H11/C857/857_4.jpg\n",
      "../data/cameras/M10/D11/H11/C858/858_4.jpg\n"
     ]
    }
   ],
   "source": [
    "'''\n",
    "Primary Loop \n",
    "\n",
    "loop through list of camera ids to get new images\n",
    "\n",
    "Add in timer\n",
    "add in schedule month/day/hour\n",
    "'''\n",
    "\n",
    "cams = [498,499,507,508,509,510,511,512,513,514,855,856,857,858]\n",
    "\n",
    "# Set  start params\n",
    "month = 10\n",
    "day = 11\n",
    "hour = 11\n",
    "\n",
    "calls_per_hour = 4\n",
    "\n",
    "\n",
    "# Loop through calls per hour\n",
    "calls = list(np.arange(1,calls_per_hour+1))\n",
    "for call in calls[:]:\n",
    "    for camID in cams:\n",
    "        img_folder = GetImageFolderName(month,day,hour,camID)\n",
    "        img_path = img_folder+'/'+str(camID)+'_'+str(call)+'.jpg'\n",
    "        print(img_path)"
   ]
  },
  {
   "cell_type": "code",
   "execution_count": null,
   "metadata": {},
   "outputs": [],
   "source": []
  }
 ],
 "metadata": {
  "kernelspec": {
   "display_name": "Python 3",
   "language": "python",
   "name": "python3"
  },
  "language_info": {
   "codemirror_mode": {
    "name": "ipython",
    "version": 3
   },
   "file_extension": ".py",
   "mimetype": "text/x-python",
   "name": "python",
   "nbconvert_exporter": "python",
   "pygments_lexer": "ipython3",
   "version": "3.6.7"
  }
 },
 "nbformat": 4,
 "nbformat_minor": 4
}
